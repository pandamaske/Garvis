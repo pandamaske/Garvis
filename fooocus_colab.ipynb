{
  "cells": [
    {
      "cell_type": "markdown",
      "metadata": {
        "id": "view-in-github",
        "colab_type": "text"
      },
      "source": [
        "<a href=\"https://colab.research.google.com/github/pandamaske/Garvis/blob/main/fooocus_colab.ipynb\" target=\"_parent\"><img src=\"https://colab.research.google.com/assets/colab-badge.svg\" alt=\"Open In Colab\"/></a>"
      ]
    },
    {
      "cell_type": "markdown",
      "source": [
        "# **Using Server Cloud T4**"
      ],
      "metadata": {
        "id": "1hw9302FPj_7"
      }
    },
    {
      "cell_type": "code",
      "execution_count": null,
      "metadata": {
        "id": "VjYy0F2gZIPR"
      },
      "outputs": [],
      "source": [
        "!pip install pygit2==1.15.1\n",
        "%cd /content\n",
        "!git clone https://github.com/lllyasviel/Fooocus.git\n",
        "%cd /content/Fooocus\n",
        "!python entry_with_update.py --share --always-high-vram\n"
      ]
    },
    {
      "cell_type": "markdown",
      "source": [
        "# **Using Google Drive**\n",
        "Having Google One might be helpful"
      ],
      "metadata": {
        "id": "6dABKIAtPIG2"
      }
    },
    {
      "cell_type": "markdown",
      "source": [
        "**Direct Run**"
      ],
      "metadata": {
        "id": "LKn8R95SRHtl"
      }
    },
    {
      "cell_type": "code",
      "source": [
        "%cd /content/drive/MyDrive/Fooocus\n",
        "!python entry_with_update.py --share --always-high-vram"
      ],
      "metadata": {
        "id": "od1gIb3dRGne"
      },
      "execution_count": null,
      "outputs": []
    },
    {
      "cell_type": "markdown",
      "source": [
        "**Install on google drive and run**"
      ],
      "metadata": {
        "id": "XZmrEM4IRKkN"
      }
    },
    {
      "cell_type": "code",
      "source": [
        "from google.colab import drive\n",
        "drive.mount('/content/drive')"
      ],
      "metadata": {
        "id": "0uEnCriYf5uY"
      },
      "execution_count": null,
      "outputs": []
    },
    {
      "cell_type": "code",
      "source": [
        "!pip install pygit2==1.15.1\n",
        "%cd /content/drive/MyDrive\n",
        "!git clone https://github.com/lllyasviel/Fooocus.git\n",
        "%cd /content/drive/MyDrive/Fooocus\n",
        "!python entry_with_update.py --share --always-high-vram\n"
      ],
      "metadata": {
        "collapsed": true,
        "id": "eGuboWcYPEbZ"
      },
      "execution_count": null,
      "outputs": []
    }
  ],
  "metadata": {
    "accelerator": "GPU",
    "colab": {
      "gpuType": "T4",
      "provenance": [],
      "include_colab_link": true
    },
    "kernelspec": {
      "display_name": "Python 3",
      "name": "python3"
    },
    "language_info": {
      "name": "python"
    }
  },
  "nbformat": 4,
  "nbformat_minor": 0
}